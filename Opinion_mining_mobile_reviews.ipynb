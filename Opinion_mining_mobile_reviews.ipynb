{
  "nbformat": 4,
  "nbformat_minor": 0,
  "metadata": {
    "colab": {
      "name": "Opinion_mining_mobile_reviews.ipynb",
      "version": "0.3.2",
      "provenance": [],
      "collapsed_sections": []
    },
    "kernelspec": {
      "name": "python3",
      "display_name": "Python 3"
    },
    "accelerator": "GPU"
  },
  "cells": [
    {
      "cell_type": "code",
      "metadata": {
        "id": "n6OWSTTzWOqt",
        "colab_type": "code",
        "colab": {}
      },
      "source": [
        "#importing the packages\n",
        "import pandas as pd\n",
        "import numpy as np\n",
        "import re\n",
        "import gensim\n",
        "import nltk\n",
        "from nltk import word_tokenize, sent_tokenize\n",
        "from nltk.corpus import stopwords\n",
        "from nltk.stem import LancasterStemmer, WordNetLemmatizer\n",
        "from nltk.corpus import stopwords\n",
        "from nltk.tokenize.treebank import TreebankWordDetokenizer\n",
        "from textblob import TextBlob\n",
        "from mlxtend.frequent_patterns import apriori,association_rules\n",
        "from nltk.tokenize import TweetTokenizer\n",
        "import spacy\n",
        "import collections\n",
        "from operator import itemgetter\n",
        "from collections import  OrderedDict"
      ],
      "execution_count": 0,
      "outputs": []
    },
    {
      "cell_type": "code",
      "metadata": {
        "id": "rdokhrQ4Wj1X",
        "colab_type": "code",
        "colab": {}
      },
      "source": [
        "#reading the data\n",
        "review_data = pd.read_csv('reviews-all_reviews-default-2019-06-23.csv')"
      ],
      "execution_count": 0,
      "outputs": []
    },
    {
      "cell_type": "code",
      "metadata": {
        "id": "_1QLYqwfWj29",
        "colab_type": "code",
        "outputId": "ba2dcf96-026e-466f-f7dc-ad5b156b41db",
        "colab": {
          "base_uri": "https://localhost:8080/",
          "height": 853
        }
      },
      "source": [
        "review_data.head()"
      ],
      "execution_count": 0,
      "outputs": [
        {
          "output_type": "execute_result",
          "data": {
            "text/html": [
              "<div>\n",
              "<style scoped>\n",
              "    .dataframe tbody tr th:only-of-type {\n",
              "        vertical-align: middle;\n",
              "    }\n",
              "\n",
              "    .dataframe tbody tr th {\n",
              "        vertical-align: top;\n",
              "    }\n",
              "\n",
              "    .dataframe thead th {\n",
              "        text-align: right;\n",
              "    }\n",
              "</style>\n",
              "<table border=\"1\" class=\"dataframe\">\n",
              "  <thead>\n",
              "    <tr style=\"text-align: right;\">\n",
              "      <th></th>\n",
              "      <th>ASIN</th>\n",
              "      <th>Country Code</th>\n",
              "      <th>Product Title</th>\n",
              "      <th>Product Review URL</th>\n",
              "      <th>Review Rating</th>\n",
              "      <th>Review Date</th>\n",
              "      <th>Reviewer URL</th>\n",
              "      <th>Reviewer Name</th>\n",
              "      <th>Reviewer ID</th>\n",
              "      <th>Review Title</th>\n",
              "      <th>Review Text</th>\n",
              "      <th>Verified Review</th>\n",
              "      <th>Variation ASIN</th>\n",
              "      <th>Deleted</th>\n",
              "      <th>Colour</th>\n",
              "      <th>Size</th>\n",
              "    </tr>\n",
              "  </thead>\n",
              "  <tbody>\n",
              "    <tr>\n",
              "      <th>0</th>\n",
              "      <td>B07DJHV6VZ</td>\n",
              "      <td>IN</td>\n",
              "      <td>OnePlus 6T (Mirror Black, 8GB RAM, 128GB Storage)</td>\n",
              "      <td>https://www.amazon.in/gp/review/R10PXUVIR6L0MO</td>\n",
              "      <td>4.0</td>\n",
              "      <td>2019-06-22</td>\n",
              "      <td>https://www.amazon.in/gp/profile/amzn1.account...</td>\n",
              "      <td>nakul</td>\n",
              "      <td>AGUQQEZD6QF55SUG4OIWZLAZ2JKQ</td>\n",
              "      <td>Nice phone</td>\n",
              "      <td>Good</td>\n",
              "      <td>Yes</td>\n",
              "      <td>B07DJHY82F</td>\n",
              "      <td>Not Deleted</td>\n",
              "      <td>Midnight Black</td>\n",
              "      <td>8GB/128 GB</td>\n",
              "    </tr>\n",
              "    <tr>\n",
              "      <th>1</th>\n",
              "      <td>B07DJHV6VZ</td>\n",
              "      <td>IN</td>\n",
              "      <td>OnePlus 6T (Mirror Black, 8GB RAM, 128GB Storage)</td>\n",
              "      <td>https://www.amazon.in/gp/review/R1UOGC1JPS1M3E</td>\n",
              "      <td>5.0</td>\n",
              "      <td>2019-06-22</td>\n",
              "      <td>https://www.amazon.in/gp/profile/amzn1.account...</td>\n",
              "      <td>Mohan</td>\n",
              "      <td>AGJV5FQHPSNNZ4TTCLA2XQ4TSWIA</td>\n",
              "      <td>Excellent phone with amazing features one plus 6T</td>\n",
              "      <td>Battery life could have been better</td>\n",
              "      <td>Yes</td>\n",
              "      <td>B07DJHY82F</td>\n",
              "      <td>Not Deleted</td>\n",
              "      <td>Midnight Black</td>\n",
              "      <td>8GB/128 GB</td>\n",
              "    </tr>\n",
              "    <tr>\n",
              "      <th>2</th>\n",
              "      <td>B07DJHV6VZ</td>\n",
              "      <td>IN</td>\n",
              "      <td>OnePlus 6T (Mirror Black, 8GB RAM, 128GB Storage)</td>\n",
              "      <td>https://www.amazon.in/gp/review/R252PGXEB4KY1L</td>\n",
              "      <td>5.0</td>\n",
              "      <td>2019-06-22</td>\n",
              "      <td>https://www.amazon.in/gp/profile/amzn1.account...</td>\n",
              "      <td>Suraj</td>\n",
              "      <td>AEEZPQEWKAAKMVWST3SHVVBKOERQ</td>\n",
              "      <td>Awesome phone</td>\n",
              "      <td>Best phone till yet</td>\n",
              "      <td>Yes</td>\n",
              "      <td>B07DJD1Y3Q</td>\n",
              "      <td>Not Deleted</td>\n",
              "      <td>Mirror Black</td>\n",
              "      <td>6GB/128 GB</td>\n",
              "    </tr>\n",
              "    <tr>\n",
              "      <th>3</th>\n",
              "      <td>B07DJHV6VZ</td>\n",
              "      <td>IN</td>\n",
              "      <td>OnePlus 6T (Mirror Black, 8GB RAM, 128GB Storage)</td>\n",
              "      <td>https://www.amazon.in/gp/review/R1EBSSECYNPVCB</td>\n",
              "      <td>1.0</td>\n",
              "      <td>2019-06-22</td>\n",
              "      <td>https://www.amazon.in/gp/profile/amzn1.account...</td>\n",
              "      <td>Sakthi</td>\n",
              "      <td>AFBBATS6CTG6366NWUXKINOW2XQQ</td>\n",
              "      <td>Cheating on the offer</td>\n",
              "      <td>They says ICICI Debit card will have 10% disco...</td>\n",
              "      <td>No</td>\n",
              "      <td>B07DJHV6VZ</td>\n",
              "      <td>Not Deleted</td>\n",
              "      <td>Mirror Black</td>\n",
              "      <td>8GB/128 GB</td>\n",
              "    </tr>\n",
              "    <tr>\n",
              "      <th>4</th>\n",
              "      <td>B07DJHV6VZ</td>\n",
              "      <td>IN</td>\n",
              "      <td>OnePlus 6T (Mirror Black, 8GB RAM, 128GB Storage)</td>\n",
              "      <td>https://www.amazon.in/gp/review/R325E8IVWNOC1L</td>\n",
              "      <td>5.0</td>\n",
              "      <td>2019-06-22</td>\n",
              "      <td>https://www.amazon.in/gp/profile/amzn1.account...</td>\n",
              "      <td>Akash chahar</td>\n",
              "      <td>AGUSFUJAGVSHMNQOZAESMOAOM7AA</td>\n",
              "      <td>True Flagship Killer under 30K</td>\n",
              "      <td>All in all, this is the best phone you can get...</td>\n",
              "      <td>Yes</td>\n",
              "      <td>B07DJHV6VZ</td>\n",
              "      <td>Not Deleted</td>\n",
              "      <td>Mirror Black</td>\n",
              "      <td>8GB/128 GB</td>\n",
              "    </tr>\n",
              "  </tbody>\n",
              "</table>\n",
              "</div>"
            ],
            "text/plain": [
              "         ASIN Country Code  ...          Colour        Size\n",
              "0  B07DJHV6VZ           IN  ...  Midnight Black  8GB/128 GB\n",
              "1  B07DJHV6VZ           IN  ...  Midnight Black  8GB/128 GB\n",
              "2  B07DJHV6VZ           IN  ...    Mirror Black  6GB/128 GB\n",
              "3  B07DJHV6VZ           IN  ...    Mirror Black  8GB/128 GB\n",
              "4  B07DJHV6VZ           IN  ...    Mirror Black  8GB/128 GB\n",
              "\n",
              "[5 rows x 16 columns]"
            ]
          },
          "metadata": {
            "tags": []
          },
          "execution_count": 82
        }
      ]
    },
    {
      "cell_type": "code",
      "metadata": {
        "id": "Kdh3FvFPhc2l",
        "colab_type": "code",
        "outputId": "4baeec39-bc00-4ada-ae92-4e2b2c3624e6",
        "colab": {
          "base_uri": "https://localhost:8080/",
          "height": 34
        }
      },
      "source": [
        "#shape of the data\n",
        "review_data.shape"
      ],
      "execution_count": 0,
      "outputs": [
        {
          "output_type": "execute_result",
          "data": {
            "text/plain": [
              "(5232, 16)"
            ]
          },
          "metadata": {
            "tags": []
          },
          "execution_count": 83
        }
      ]
    },
    {
      "cell_type": "code",
      "metadata": {
        "id": "8Vzm4rSKWj6v",
        "colab_type": "code",
        "colab": {}
      },
      "source": [
        "#taking only reviews from the dataset\n",
        "review_text = review_data['Review Text']"
      ],
      "execution_count": 0,
      "outputs": []
    },
    {
      "cell_type": "code",
      "metadata": {
        "id": "MJHY3ebYWj8P",
        "colab_type": "code",
        "colab": {}
      },
      "source": [
        "#lowercasing the text\n",
        "review_lower = [text.lower() for text in review_text]"
      ],
      "execution_count": 0,
      "outputs": []
    },
    {
      "cell_type": "code",
      "metadata": {
        "id": "gqX4rjPrW_BT",
        "colab_type": "code",
        "colab": {}
      },
      "source": [
        "#function to remove emojis\n",
        "def deEmojify(review_list):\n",
        "    deEmoji = []\n",
        "    for i in review_list:\n",
        "        review = i.encode('ascii', 'ignore').decode('ascii')\n",
        "        deEmoji.append(review)\n",
        "    return deEmoji"
      ],
      "execution_count": 0,
      "outputs": []
    },
    {
      "cell_type": "code",
      "metadata": {
        "id": "hOrPUiAGW_4d",
        "colab_type": "code",
        "colab": {}
      },
      "source": [
        "#calling the function to remove emojis\n",
        "reviews = deEmojify(review_lower)"
      ],
      "execution_count": 0,
      "outputs": []
    },
    {
      "cell_type": "code",
      "metadata": {
        "id": "N2x8WHHfXAz9",
        "colab_type": "code",
        "colab": {}
      },
      "source": [
        "#cleaning the punctuations in reviews\n",
        "reviews = [re.sub('[.]+',' ',s) for s in reviews]\n",
        "reviews = [re.sub('[,]+',' ',s) for s in reviews]\n",
        "reviews= [re.sub('[\\n]+',' ',s) for s in reviews]\n",
        "reviews= [re.sub(\"[']+\",' ',s) for s in reviews]\n",
        "reviews = [re.sub('[@,&,!]+', '', s) for s in reviews ]\n",
        "reviews = [re.sub('[0-9]','',s)for s in reviews]\n",
        "reviews = [re.sub(r'[.|,|)|(|\\|/]',r' ',s)for s in reviews]\n",
        "reviews = [re.sub(r'[?|!|\\'|\"|#]',r'',s)for s in reviews]\n",
        "reviews = [re.sub('[+]+','',s)for s in reviews]\n",
        "reviews = [re.sub('[:]+','',s)for s in reviews]\n",
        "reviews = [re.sub('[%]+','',s)for s in reviews]\n",
        "reviews = [re.sub('[-]+','',s)for s in reviews]"
      ],
      "execution_count": 0,
      "outputs": []
    },
    {
      "cell_type": "code",
      "metadata": {
        "id": "302Sa16bXD6c",
        "colab_type": "code",
        "colab": {}
      },
      "source": [
        "reviews1 = reviews.copy()"
      ],
      "execution_count": 0,
      "outputs": []
    },
    {
      "cell_type": "code",
      "metadata": {
        "id": "RUvkAsKitqVn",
        "colab_type": "code",
        "outputId": "e55c6030-25a7-44a9-d9cf-74f01f514356",
        "colab": {
          "base_uri": "https://localhost:8080/",
          "height": 238
        }
      },
      "source": [
        "#N=nltj packages \n",
        "nltk.download('wordnet')\n",
        "nltk.download('punkt')\n",
        "nltk.download('stopwords')\n",
        "nltk.download('brown')\n",
        "nltk.download('averaged_perceptron_tagger')\n"
      ],
      "execution_count": 0,
      "outputs": [
        {
          "output_type": "stream",
          "text": [
            "[nltk_data] Downloading package wordnet to /root/nltk_data...\n",
            "[nltk_data]   Package wordnet is already up-to-date!\n",
            "[nltk_data] Downloading package punkt to /root/nltk_data...\n",
            "[nltk_data]   Package punkt is already up-to-date!\n",
            "[nltk_data] Downloading package stopwords to /root/nltk_data...\n",
            "[nltk_data]   Package stopwords is already up-to-date!\n",
            "[nltk_data] Downloading package brown to /root/nltk_data...\n",
            "[nltk_data]   Package brown is already up-to-date!\n",
            "[nltk_data] Downloading package averaged_perceptron_tagger to\n",
            "[nltk_data]     /root/nltk_data...\n",
            "[nltk_data]   Package averaged_perceptron_tagger is already up-to-\n",
            "[nltk_data]       date!\n"
          ],
          "name": "stdout"
        },
        {
          "output_type": "execute_result",
          "data": {
            "text/plain": [
              "True"
            ]
          },
          "metadata": {
            "tags": []
          },
          "execution_count": 90
        }
      ]
    },
    {
      "cell_type": "code",
      "metadata": {
        "colab_type": "code",
        "id": "NxrNlr0ytsgI",
        "colab": {}
      },
      "source": [
        "#tokenizing the data\n",
        "tokens=[]\n",
        "for i in reviews:\n",
        "    tokenized_word = word_tokenize(i)\n",
        "    tokens.append(tokenized_word)\n",
        "#len(tokens)"
      ],
      "execution_count": 0,
      "outputs": []
    },
    {
      "cell_type": "code",
      "metadata": {
        "id": "PzturgZM_aRT",
        "colab_type": "code",
        "colab": {}
      },
      "source": [
        "#tokens"
      ],
      "execution_count": 0,
      "outputs": []
    },
    {
      "cell_type": "code",
      "metadata": {
        "id": "w1OGahg8AeHi",
        "colab_type": "code",
        "colab": {}
      },
      "source": [
        "#lementazing the reviews\n",
        "lem = []\n",
        "for i in tokens:\n",
        "  lemmatized_words = [WordNetLemmatizer().lemmatize(x) for x in i]\n",
        "  lem.append(lemmatized_words)\n",
        "#lem"
      ],
      "execution_count": 0,
      "outputs": []
    },
    {
      "cell_type": "code",
      "metadata": {
        "id": "D4ZxFROJFbMc",
        "colab_type": "code",
        "colab": {}
      },
      "source": [
        "#removing the stop words\n",
        "stop_words = list(stopwords.words(\"english\"))\n",
        "stop_data = [[word for word in sub if word not in stop_words] for sub in lem]"
      ],
      "execution_count": 0,
      "outputs": []
    },
    {
      "cell_type": "code",
      "metadata": {
        "id": "VT-OJSsJeiDs",
        "colab_type": "code",
        "colab": {}
      },
      "source": [
        "#de tokenizing the data\n",
        "de_token=[]\n",
        "for i in stop_data:\n",
        "  d = TreebankWordDetokenizer().detokenize(i)\n",
        "  de_token.append(d)"
      ],
      "execution_count": 0,
      "outputs": []
    },
    {
      "cell_type": "code",
      "metadata": {
        "id": "cQnowu9OFbQO",
        "colab_type": "code",
        "colab": {}
      },
      "source": [
        "#removing the numbers in tokens\n",
        "de_token_reviews = [ re.sub(r'\\b\\w{1,3}\\b', '', s) for s in de_token]\n"
      ],
      "execution_count": 0,
      "outputs": []
    },
    {
      "cell_type": "code",
      "metadata": {
        "id": "kfIRQYG4FbVa",
        "colab_type": "code",
        "colab": {}
      },
      "source": [
        "#tokenizing the data\n",
        "tokens=[]\n",
        "for i in de_token_reviews:\n",
        "    tokenized_word = word_tokenize(i)\n",
        "    tokens.append(tokenized_word)\n",
        "#len(tokens)"
      ],
      "execution_count": 0,
      "outputs": []
    },
    {
      "cell_type": "code",
      "metadata": {
        "id": "TUoOdTQGaG5j",
        "colab_type": "code",
        "colab": {}
      },
      "source": [
        "tokens1 = tokens.copy()"
      ],
      "execution_count": 0,
      "outputs": []
    },
    {
      "cell_type": "code",
      "metadata": {
        "id": "OmXn5ESuFbbI",
        "colab_type": "code",
        "colab": {}
      },
      "source": [
        "#extracting the noun phrases from the text reviews using the text blob\n",
        "review_blob=[]\n",
        "for i in tokens:\n",
        "    blob = TextBlob(str(i))\n",
        "    noun = blob.noun_phrases\n",
        "    review_blob.append(noun)\n",
        "    "
      ],
      "execution_count": 0,
      "outputs": []
    },
    {
      "cell_type": "code",
      "metadata": {
        "id": "XDLSis558ei9",
        "colab_type": "code",
        "colab": {}
      },
      "source": [
        "#review_blob"
      ],
      "execution_count": 0,
      "outputs": []
    },
    {
      "cell_type": "code",
      "metadata": {
        "id": "Gxn_klrAFbLG",
        "colab_type": "code",
        "colab": {}
      },
      "source": [
        "#cleaning the nouns\n",
        "nouns = list(x for l in review_blob for x in l)\n",
        "nouns=nouns[3:len(nouns)]\n",
        "nouns = [re.sub(\"[[  ']+\", \"\" ,s) for s in nouns]\n",
        "nouns = [re.sub(\"[]  ']+\", \"\" ,s) for s in nouns]\n",
        "nouns = np.unique(nouns)\n",
        "nouns = [re.sub(\"['*']+\",\"\",s) for s in nouns]\n",
        "nouns = [re.sub(\"['=']+\",\"\",s) for s in nouns]\n",
        "unique_nouns = [re.sub(\"[' ']+\",\"\",s) for s in nouns]"
      ],
      "execution_count": 0,
      "outputs": []
    },
    {
      "cell_type": "code",
      "metadata": {
        "id": "wv5R6RfIzoOf",
        "colab_type": "code",
        "colab": {}
      },
      "source": [
        "df_nouns = pd.DataFrame({'noun_col':unique_nouns})"
      ],
      "execution_count": 0,
      "outputs": []
    },
    {
      "cell_type": "code",
      "metadata": {
        "id": "p-4P1WE50a3T",
        "colab_type": "code",
        "outputId": "3fa2fe90-64af-417a-9f48-fb5c37bef1ec",
        "colab": {
          "base_uri": "https://localhost:8080/",
          "height": 204
        }
      },
      "source": [
        "df_nouns=df_nouns.drop([0,1,2],axis=0).head()\n",
        "df_nouns.head()"
      ],
      "execution_count": 0,
      "outputs": [
        {
          "output_type": "execute_result",
          "data": {
            "text/html": [
              "<div>\n",
              "<style scoped>\n",
              "    .dataframe tbody tr th:only-of-type {\n",
              "        vertical-align: middle;\n",
              "    }\n",
              "\n",
              "    .dataframe tbody tr th {\n",
              "        vertical-align: top;\n",
              "    }\n",
              "\n",
              "    .dataframe thead th {\n",
              "        text-align: right;\n",
              "    }\n",
              "</style>\n",
              "<table border=\"1\" class=\"dataframe\">\n",
              "  <thead>\n",
              "    <tr style=\"text-align: right;\">\n",
              "      <th></th>\n",
              "      <th>noun_col</th>\n",
              "    </tr>\n",
              "  </thead>\n",
              "  <tbody>\n",
              "    <tr>\n",
              "      <th>3</th>\n",
              "      <td>product</td>\n",
              "    </tr>\n",
              "    <tr>\n",
              "      <th>4</th>\n",
              "      <td>aaah</td>\n",
              "    </tr>\n",
              "    <tr>\n",
              "      <th>5</th>\n",
              "      <td>abhi</td>\n",
              "    </tr>\n",
              "    <tr>\n",
              "      <th>6</th>\n",
              "      <td>absolute</td>\n",
              "    </tr>\n",
              "    <tr>\n",
              "      <th>7</th>\n",
              "      <td>accessory</td>\n",
              "    </tr>\n",
              "  </tbody>\n",
              "</table>\n",
              "</div>"
            ],
            "text/plain": [
              "    noun_col\n",
              "3    product\n",
              "4       aaah\n",
              "5       abhi\n",
              "6   absolute\n",
              "7  accessory"
            ]
          },
          "metadata": {
            "tags": []
          },
          "execution_count": 103
        }
      ]
    },
    {
      "cell_type": "code",
      "metadata": {
        "id": "bABfog8XTN0F",
        "colab_type": "code",
        "colab": {}
      },
      "source": [
        "df_nouns.to_csv('nouns.csv')"
      ],
      "execution_count": 0,
      "outputs": []
    },
    {
      "cell_type": "code",
      "metadata": {
        "id": "ijhOY8XCrEMR",
        "colab_type": "code",
        "colab": {}
      },
      "source": [
        "#creating the sparse matrix\n",
        "df = pd.DataFrame()\n",
        "for i in nouns:\n",
        "  df[i] = np.where(review_data['Review Text'].str.contains(i),1,0)"
      ],
      "execution_count": 0,
      "outputs": []
    },
    {
      "cell_type": "code",
      "metadata": {
        "id": "sVlbp5QHpSGw",
        "colab_type": "code",
        "outputId": "3ab2c8c7-1eb1-4a13-a6ac-793e102e8b25",
        "colab": {
          "base_uri": "https://localhost:8080/",
          "height": 253
        }
      },
      "source": [
        "df.head()"
      ],
      "execution_count": 0,
      "outputs": [
        {
          "output_type": "execute_result",
          "data": {
            "text/html": [
              "<div>\n",
              "<style scoped>\n",
              "    .dataframe tbody tr th:only-of-type {\n",
              "        vertical-align: middle;\n",
              "    }\n",
              "\n",
              "    .dataframe tbody tr th {\n",
              "        vertical-align: top;\n",
              "    }\n",
              "\n",
              "    .dataframe thead th {\n",
              "        text-align: right;\n",
              "    }\n",
              "</style>\n",
              "<table border=\"1\" class=\"dataframe\">\n",
              "  <thead>\n",
              "    <tr style=\"text-align: right;\">\n",
              "      <th></th>\n",
              "      <th></th>\n",
              "      <th>product</th>\n",
              "      <th>aaah</th>\n",
              "      <th>abhi</th>\n",
              "      <th>absolute</th>\n",
              "      <th>accessory</th>\n",
              "      <th>achha</th>\n",
              "      <th>adipoli</th>\n",
              "      <th>advance</th>\n",
              "      <th>alert</th>\n",
              "      <th>allow</th>\n",
              "      <th>almost</th>\n",
              "      <th>already</th>\n",
              "      <th>alret</th>\n",
              "      <th>also</th>\n",
              "      <th>always</th>\n",
              "      <th>amazon</th>\n",
              "      <th>amazononeplus</th>\n",
              "      <th>ambient</th>\n",
              "      <th>android</th>\n",
              "      <th>another</th>\n",
              "      <th>anti</th>\n",
              "      <th>apart</th>\n",
              "      <th>apps</th>\n",
              "      <th>around</th>\n",
              "      <th>aswm</th>\n",
              "      <th>atleast</th>\n",
              "      <th>attractive</th>\n",
              "      <th>audio</th>\n",
              "      <th>ausam</th>\n",
              "      <th>average</th>\n",
              "      <th>awasome</th>\n",
              "      <th>awesome</th>\n",
              "      <th>awesometacular</th>\n",
              "      <th>awful</th>\n",
              "      <th>awrsome</th>\n",
              "      <th>awsm</th>\n",
              "      <th>awsme</th>\n",
              "      <th>awsome</th>\n",
              "      <th>awsomw</th>\n",
              "      <th>...</th>\n",
              "      <th>vera</th>\n",
              "      <th>version</th>\n",
              "      <th>veru</th>\n",
              "      <th>verygood</th>\n",
              "      <th>video</th>\n",
              "      <th>vivo</th>\n",
              "      <th>voice</th>\n",
              "      <th>waaooo</th>\n",
              "      <th>wanderfull</th>\n",
              "      <th>want</th>\n",
              "      <th>warp</th>\n",
              "      <th>waste</th>\n",
              "      <th>waterproof</th>\n",
              "      <th>week</th>\n",
              "      <th>weight</th>\n",
              "      <th>weird</th>\n",
              "      <th>well</th>\n",
              "      <th>whatever</th>\n",
              "      <th>whereas</th>\n",
              "      <th>whoever</th>\n",
              "      <th>wife</th>\n",
              "      <th>wish</th>\n",
              "      <th>within</th>\n",
              "      <th>without</th>\n",
              "      <th>wonderful</th>\n",
              "      <th>wonderfull</th>\n",
              "      <th>word</th>\n",
              "      <th>work</th>\n",
              "      <th>world</th>\n",
              "      <th>worse</th>\n",
              "      <th>worst</th>\n",
              "      <th>worth</th>\n",
              "      <th>worthy</th>\n",
              "      <th>would</th>\n",
              "      <th>wowwwww</th>\n",
              "      <th>write</th>\n",
              "      <th>wrost</th>\n",
              "      <th>youtuber</th>\n",
              "      <th>zehrr</th>\n",
              "      <th>zero</th>\n",
              "    </tr>\n",
              "  </thead>\n",
              "  <tbody>\n",
              "    <tr>\n",
              "      <th>0</th>\n",
              "      <td>1</td>\n",
              "      <td>0</td>\n",
              "      <td>0</td>\n",
              "      <td>0</td>\n",
              "      <td>0</td>\n",
              "      <td>0</td>\n",
              "      <td>0</td>\n",
              "      <td>0</td>\n",
              "      <td>0</td>\n",
              "      <td>0</td>\n",
              "      <td>0</td>\n",
              "      <td>0</td>\n",
              "      <td>0</td>\n",
              "      <td>0</td>\n",
              "      <td>0</td>\n",
              "      <td>0</td>\n",
              "      <td>0</td>\n",
              "      <td>0</td>\n",
              "      <td>0</td>\n",
              "      <td>0</td>\n",
              "      <td>0</td>\n",
              "      <td>0</td>\n",
              "      <td>0</td>\n",
              "      <td>0</td>\n",
              "      <td>0</td>\n",
              "      <td>0</td>\n",
              "      <td>0</td>\n",
              "      <td>0</td>\n",
              "      <td>0</td>\n",
              "      <td>0</td>\n",
              "      <td>0</td>\n",
              "      <td>0</td>\n",
              "      <td>0</td>\n",
              "      <td>0</td>\n",
              "      <td>0</td>\n",
              "      <td>0</td>\n",
              "      <td>0</td>\n",
              "      <td>0</td>\n",
              "      <td>0</td>\n",
              "      <td>0</td>\n",
              "      <td>...</td>\n",
              "      <td>0</td>\n",
              "      <td>0</td>\n",
              "      <td>0</td>\n",
              "      <td>0</td>\n",
              "      <td>0</td>\n",
              "      <td>0</td>\n",
              "      <td>0</td>\n",
              "      <td>0</td>\n",
              "      <td>0</td>\n",
              "      <td>0</td>\n",
              "      <td>0</td>\n",
              "      <td>0</td>\n",
              "      <td>0</td>\n",
              "      <td>0</td>\n",
              "      <td>0</td>\n",
              "      <td>0</td>\n",
              "      <td>0</td>\n",
              "      <td>0</td>\n",
              "      <td>0</td>\n",
              "      <td>0</td>\n",
              "      <td>0</td>\n",
              "      <td>0</td>\n",
              "      <td>0</td>\n",
              "      <td>0</td>\n",
              "      <td>0</td>\n",
              "      <td>0</td>\n",
              "      <td>0</td>\n",
              "      <td>0</td>\n",
              "      <td>0</td>\n",
              "      <td>0</td>\n",
              "      <td>0</td>\n",
              "      <td>0</td>\n",
              "      <td>0</td>\n",
              "      <td>0</td>\n",
              "      <td>0</td>\n",
              "      <td>0</td>\n",
              "      <td>0</td>\n",
              "      <td>0</td>\n",
              "      <td>0</td>\n",
              "      <td>0</td>\n",
              "    </tr>\n",
              "    <tr>\n",
              "      <th>1</th>\n",
              "      <td>1</td>\n",
              "      <td>0</td>\n",
              "      <td>0</td>\n",
              "      <td>0</td>\n",
              "      <td>0</td>\n",
              "      <td>0</td>\n",
              "      <td>0</td>\n",
              "      <td>0</td>\n",
              "      <td>0</td>\n",
              "      <td>0</td>\n",
              "      <td>0</td>\n",
              "      <td>0</td>\n",
              "      <td>0</td>\n",
              "      <td>0</td>\n",
              "      <td>0</td>\n",
              "      <td>0</td>\n",
              "      <td>0</td>\n",
              "      <td>0</td>\n",
              "      <td>0</td>\n",
              "      <td>0</td>\n",
              "      <td>0</td>\n",
              "      <td>0</td>\n",
              "      <td>0</td>\n",
              "      <td>0</td>\n",
              "      <td>0</td>\n",
              "      <td>0</td>\n",
              "      <td>0</td>\n",
              "      <td>0</td>\n",
              "      <td>0</td>\n",
              "      <td>0</td>\n",
              "      <td>0</td>\n",
              "      <td>0</td>\n",
              "      <td>0</td>\n",
              "      <td>0</td>\n",
              "      <td>0</td>\n",
              "      <td>0</td>\n",
              "      <td>0</td>\n",
              "      <td>0</td>\n",
              "      <td>0</td>\n",
              "      <td>0</td>\n",
              "      <td>...</td>\n",
              "      <td>0</td>\n",
              "      <td>0</td>\n",
              "      <td>0</td>\n",
              "      <td>0</td>\n",
              "      <td>0</td>\n",
              "      <td>0</td>\n",
              "      <td>0</td>\n",
              "      <td>0</td>\n",
              "      <td>0</td>\n",
              "      <td>0</td>\n",
              "      <td>0</td>\n",
              "      <td>0</td>\n",
              "      <td>0</td>\n",
              "      <td>0</td>\n",
              "      <td>0</td>\n",
              "      <td>0</td>\n",
              "      <td>0</td>\n",
              "      <td>0</td>\n",
              "      <td>0</td>\n",
              "      <td>0</td>\n",
              "      <td>0</td>\n",
              "      <td>0</td>\n",
              "      <td>0</td>\n",
              "      <td>0</td>\n",
              "      <td>0</td>\n",
              "      <td>0</td>\n",
              "      <td>0</td>\n",
              "      <td>0</td>\n",
              "      <td>0</td>\n",
              "      <td>0</td>\n",
              "      <td>0</td>\n",
              "      <td>0</td>\n",
              "      <td>0</td>\n",
              "      <td>0</td>\n",
              "      <td>0</td>\n",
              "      <td>0</td>\n",
              "      <td>0</td>\n",
              "      <td>0</td>\n",
              "      <td>0</td>\n",
              "      <td>0</td>\n",
              "    </tr>\n",
              "    <tr>\n",
              "      <th>2</th>\n",
              "      <td>1</td>\n",
              "      <td>0</td>\n",
              "      <td>0</td>\n",
              "      <td>0</td>\n",
              "      <td>0</td>\n",
              "      <td>0</td>\n",
              "      <td>0</td>\n",
              "      <td>0</td>\n",
              "      <td>0</td>\n",
              "      <td>0</td>\n",
              "      <td>0</td>\n",
              "      <td>0</td>\n",
              "      <td>0</td>\n",
              "      <td>0</td>\n",
              "      <td>0</td>\n",
              "      <td>0</td>\n",
              "      <td>0</td>\n",
              "      <td>0</td>\n",
              "      <td>0</td>\n",
              "      <td>0</td>\n",
              "      <td>0</td>\n",
              "      <td>0</td>\n",
              "      <td>0</td>\n",
              "      <td>0</td>\n",
              "      <td>0</td>\n",
              "      <td>0</td>\n",
              "      <td>0</td>\n",
              "      <td>0</td>\n",
              "      <td>0</td>\n",
              "      <td>0</td>\n",
              "      <td>0</td>\n",
              "      <td>0</td>\n",
              "      <td>0</td>\n",
              "      <td>0</td>\n",
              "      <td>0</td>\n",
              "      <td>0</td>\n",
              "      <td>0</td>\n",
              "      <td>0</td>\n",
              "      <td>0</td>\n",
              "      <td>0</td>\n",
              "      <td>...</td>\n",
              "      <td>0</td>\n",
              "      <td>0</td>\n",
              "      <td>0</td>\n",
              "      <td>0</td>\n",
              "      <td>0</td>\n",
              "      <td>0</td>\n",
              "      <td>0</td>\n",
              "      <td>0</td>\n",
              "      <td>0</td>\n",
              "      <td>0</td>\n",
              "      <td>0</td>\n",
              "      <td>0</td>\n",
              "      <td>0</td>\n",
              "      <td>0</td>\n",
              "      <td>0</td>\n",
              "      <td>0</td>\n",
              "      <td>0</td>\n",
              "      <td>0</td>\n",
              "      <td>0</td>\n",
              "      <td>0</td>\n",
              "      <td>0</td>\n",
              "      <td>0</td>\n",
              "      <td>0</td>\n",
              "      <td>0</td>\n",
              "      <td>0</td>\n",
              "      <td>0</td>\n",
              "      <td>0</td>\n",
              "      <td>0</td>\n",
              "      <td>0</td>\n",
              "      <td>0</td>\n",
              "      <td>0</td>\n",
              "      <td>0</td>\n",
              "      <td>0</td>\n",
              "      <td>0</td>\n",
              "      <td>0</td>\n",
              "      <td>0</td>\n",
              "      <td>0</td>\n",
              "      <td>0</td>\n",
              "      <td>0</td>\n",
              "      <td>0</td>\n",
              "    </tr>\n",
              "    <tr>\n",
              "      <th>3</th>\n",
              "      <td>1</td>\n",
              "      <td>0</td>\n",
              "      <td>0</td>\n",
              "      <td>0</td>\n",
              "      <td>0</td>\n",
              "      <td>0</td>\n",
              "      <td>0</td>\n",
              "      <td>0</td>\n",
              "      <td>0</td>\n",
              "      <td>0</td>\n",
              "      <td>0</td>\n",
              "      <td>0</td>\n",
              "      <td>0</td>\n",
              "      <td>0</td>\n",
              "      <td>0</td>\n",
              "      <td>0</td>\n",
              "      <td>0</td>\n",
              "      <td>0</td>\n",
              "      <td>0</td>\n",
              "      <td>0</td>\n",
              "      <td>0</td>\n",
              "      <td>0</td>\n",
              "      <td>0</td>\n",
              "      <td>0</td>\n",
              "      <td>0</td>\n",
              "      <td>0</td>\n",
              "      <td>0</td>\n",
              "      <td>0</td>\n",
              "      <td>0</td>\n",
              "      <td>0</td>\n",
              "      <td>0</td>\n",
              "      <td>0</td>\n",
              "      <td>0</td>\n",
              "      <td>0</td>\n",
              "      <td>0</td>\n",
              "      <td>0</td>\n",
              "      <td>0</td>\n",
              "      <td>0</td>\n",
              "      <td>0</td>\n",
              "      <td>0</td>\n",
              "      <td>...</td>\n",
              "      <td>0</td>\n",
              "      <td>0</td>\n",
              "      <td>0</td>\n",
              "      <td>0</td>\n",
              "      <td>0</td>\n",
              "      <td>0</td>\n",
              "      <td>0</td>\n",
              "      <td>0</td>\n",
              "      <td>0</td>\n",
              "      <td>0</td>\n",
              "      <td>0</td>\n",
              "      <td>1</td>\n",
              "      <td>0</td>\n",
              "      <td>0</td>\n",
              "      <td>0</td>\n",
              "      <td>0</td>\n",
              "      <td>0</td>\n",
              "      <td>0</td>\n",
              "      <td>0</td>\n",
              "      <td>0</td>\n",
              "      <td>0</td>\n",
              "      <td>0</td>\n",
              "      <td>0</td>\n",
              "      <td>0</td>\n",
              "      <td>0</td>\n",
              "      <td>0</td>\n",
              "      <td>0</td>\n",
              "      <td>0</td>\n",
              "      <td>0</td>\n",
              "      <td>0</td>\n",
              "      <td>0</td>\n",
              "      <td>0</td>\n",
              "      <td>0</td>\n",
              "      <td>0</td>\n",
              "      <td>0</td>\n",
              "      <td>0</td>\n",
              "      <td>0</td>\n",
              "      <td>0</td>\n",
              "      <td>0</td>\n",
              "      <td>0</td>\n",
              "    </tr>\n",
              "    <tr>\n",
              "      <th>4</th>\n",
              "      <td>1</td>\n",
              "      <td>0</td>\n",
              "      <td>0</td>\n",
              "      <td>0</td>\n",
              "      <td>0</td>\n",
              "      <td>0</td>\n",
              "      <td>0</td>\n",
              "      <td>0</td>\n",
              "      <td>0</td>\n",
              "      <td>0</td>\n",
              "      <td>0</td>\n",
              "      <td>0</td>\n",
              "      <td>0</td>\n",
              "      <td>0</td>\n",
              "      <td>0</td>\n",
              "      <td>0</td>\n",
              "      <td>0</td>\n",
              "      <td>0</td>\n",
              "      <td>0</td>\n",
              "      <td>1</td>\n",
              "      <td>0</td>\n",
              "      <td>0</td>\n",
              "      <td>0</td>\n",
              "      <td>0</td>\n",
              "      <td>0</td>\n",
              "      <td>0</td>\n",
              "      <td>0</td>\n",
              "      <td>0</td>\n",
              "      <td>1</td>\n",
              "      <td>0</td>\n",
              "      <td>0</td>\n",
              "      <td>0</td>\n",
              "      <td>0</td>\n",
              "      <td>0</td>\n",
              "      <td>0</td>\n",
              "      <td>0</td>\n",
              "      <td>0</td>\n",
              "      <td>0</td>\n",
              "      <td>0</td>\n",
              "      <td>0</td>\n",
              "      <td>...</td>\n",
              "      <td>0</td>\n",
              "      <td>0</td>\n",
              "      <td>0</td>\n",
              "      <td>0</td>\n",
              "      <td>0</td>\n",
              "      <td>0</td>\n",
              "      <td>0</td>\n",
              "      <td>0</td>\n",
              "      <td>0</td>\n",
              "      <td>0</td>\n",
              "      <td>0</td>\n",
              "      <td>0</td>\n",
              "      <td>0</td>\n",
              "      <td>0</td>\n",
              "      <td>0</td>\n",
              "      <td>0</td>\n",
              "      <td>0</td>\n",
              "      <td>0</td>\n",
              "      <td>0</td>\n",
              "      <td>0</td>\n",
              "      <td>0</td>\n",
              "      <td>0</td>\n",
              "      <td>0</td>\n",
              "      <td>0</td>\n",
              "      <td>0</td>\n",
              "      <td>0</td>\n",
              "      <td>0</td>\n",
              "      <td>0</td>\n",
              "      <td>0</td>\n",
              "      <td>0</td>\n",
              "      <td>0</td>\n",
              "      <td>0</td>\n",
              "      <td>0</td>\n",
              "      <td>0</td>\n",
              "      <td>0</td>\n",
              "      <td>0</td>\n",
              "      <td>0</td>\n",
              "      <td>0</td>\n",
              "      <td>0</td>\n",
              "      <td>0</td>\n",
              "    </tr>\n",
              "  </tbody>\n",
              "</table>\n",
              "<p>5 rows × 580 columns</p>\n",
              "</div>"
            ],
            "text/plain": [
              "      product  aaah  abhi  absolute  ...  write  wrost  youtuber  zehrr  zero\n",
              "0  1        0     0     0         0  ...      0      0         0      0     0\n",
              "1  1        0     0     0         0  ...      0      0         0      0     0\n",
              "2  1        0     0     0         0  ...      0      0         0      0     0\n",
              "3  1        0     0     0         0  ...      0      0         0      0     0\n",
              "4  1        0     0     0         0  ...      0      0         0      0     0\n",
              "\n",
              "[5 rows x 580 columns]"
            ]
          },
          "metadata": {
            "tags": []
          },
          "execution_count": 106
        }
      ]
    },
    {
      "cell_type": "code",
      "metadata": {
        "id": "0LuTxInzwotb",
        "colab_type": "code",
        "colab": {}
      },
      "source": [
        "df.to_csv('sparse.csv')"
      ],
      "execution_count": 0,
      "outputs": []
    },
    {
      "cell_type": "code",
      "metadata": {
        "id": "dgJqHRHXpWRv",
        "colab_type": "code",
        "outputId": "8af59c3f-7e7c-42ef-f777-2254f74fb934",
        "colab": {
          "base_uri": "https://localhost:8080/",
          "height": 204
        }
      },
      "source": [
        "#applying the association rule mining\n",
        "freq = apriori(df,min_support=0.01,use_colnames=True)\n",
        "freq.head()"
      ],
      "execution_count": 0,
      "outputs": [
        {
          "output_type": "execute_result",
          "data": {
            "text/html": [
              "<div>\n",
              "<style scoped>\n",
              "    .dataframe tbody tr th:only-of-type {\n",
              "        vertical-align: middle;\n",
              "    }\n",
              "\n",
              "    .dataframe tbody tr th {\n",
              "        vertical-align: top;\n",
              "    }\n",
              "\n",
              "    .dataframe thead th {\n",
              "        text-align: right;\n",
              "    }\n",
              "</style>\n",
              "<table border=\"1\" class=\"dataframe\">\n",
              "  <thead>\n",
              "    <tr style=\"text-align: right;\">\n",
              "      <th></th>\n",
              "      <th>support</th>\n",
              "      <th>itemsets</th>\n",
              "    </tr>\n",
              "  </thead>\n",
              "  <tbody>\n",
              "    <tr>\n",
              "      <th>0</th>\n",
              "      <td>1.000000</td>\n",
              "      <td>()</td>\n",
              "    </tr>\n",
              "    <tr>\n",
              "      <th>1</th>\n",
              "      <td>0.090596</td>\n",
              "      <td>(product)</td>\n",
              "    </tr>\n",
              "    <tr>\n",
              "      <th>2</th>\n",
              "      <td>0.034404</td>\n",
              "      <td>(also)</td>\n",
              "    </tr>\n",
              "    <tr>\n",
              "      <th>3</th>\n",
              "      <td>0.042622</td>\n",
              "      <td>(awesome)</td>\n",
              "    </tr>\n",
              "    <tr>\n",
              "      <th>4</th>\n",
              "      <td>0.034404</td>\n",
              "      <td>(back)</td>\n",
              "    </tr>\n",
              "  </tbody>\n",
              "</table>\n",
              "</div>"
            ],
            "text/plain": [
              "    support   itemsets\n",
              "0  1.000000         ()\n",
              "1  0.090596  (product)\n",
              "2  0.034404     (also)\n",
              "3  0.042622  (awesome)\n",
              "4  0.034404     (back)"
            ]
          },
          "metadata": {
            "tags": []
          },
          "execution_count": 108
        }
      ]
    },
    {
      "cell_type": "code",
      "metadata": {
        "id": "D5ie8_Fp3DsN",
        "colab_type": "code",
        "colab": {}
      },
      "source": [
        "freq.to_csv('frequent_itemsets.csv')"
      ],
      "execution_count": 0,
      "outputs": []
    },
    {
      "cell_type": "code",
      "metadata": {
        "id": "guLYgoc3064D",
        "colab_type": "code",
        "outputId": "a11696c4-d611-48da-d8b4-57413218d9d6",
        "colab": {
          "base_uri": "https://localhost:8080/",
          "height": 204
        }
      },
      "source": [
        "#rules\n",
        "rules = association_rules(freq,metric='lift',min_threshold=2)\n",
        "rules.head()"
      ],
      "execution_count": 0,
      "outputs": [
        {
          "output_type": "execute_result",
          "data": {
            "text/html": [
              "<div>\n",
              "<style scoped>\n",
              "    .dataframe tbody tr th:only-of-type {\n",
              "        vertical-align: middle;\n",
              "    }\n",
              "\n",
              "    .dataframe tbody tr th {\n",
              "        vertical-align: top;\n",
              "    }\n",
              "\n",
              "    .dataframe thead th {\n",
              "        text-align: right;\n",
              "    }\n",
              "</style>\n",
              "<table border=\"1\" class=\"dataframe\">\n",
              "  <thead>\n",
              "    <tr style=\"text-align: right;\">\n",
              "      <th></th>\n",
              "      <th>antecedents</th>\n",
              "      <th>consequents</th>\n",
              "      <th>antecedent support</th>\n",
              "      <th>consequent support</th>\n",
              "      <th>support</th>\n",
              "      <th>confidence</th>\n",
              "      <th>lift</th>\n",
              "      <th>leverage</th>\n",
              "      <th>conviction</th>\n",
              "    </tr>\n",
              "  </thead>\n",
              "  <tbody>\n",
              "    <tr>\n",
              "      <th>0</th>\n",
              "      <td>(batter)</td>\n",
              "      <td>(also)</td>\n",
              "      <td>0.080657</td>\n",
              "      <td>0.034404</td>\n",
              "      <td>0.010512</td>\n",
              "      <td>0.130332</td>\n",
              "      <td>3.788310</td>\n",
              "      <td>0.007737</td>\n",
              "      <td>1.110304</td>\n",
              "    </tr>\n",
              "    <tr>\n",
              "      <th>1</th>\n",
              "      <td>(also)</td>\n",
              "      <td>(batter)</td>\n",
              "      <td>0.034404</td>\n",
              "      <td>0.080657</td>\n",
              "      <td>0.010512</td>\n",
              "      <td>0.305556</td>\n",
              "      <td>3.788310</td>\n",
              "      <td>0.007737</td>\n",
              "      <td>1.323853</td>\n",
              "    </tr>\n",
              "    <tr>\n",
              "      <th>2</th>\n",
              "      <td>(battery)</td>\n",
              "      <td>(also)</td>\n",
              "      <td>0.079511</td>\n",
              "      <td>0.034404</td>\n",
              "      <td>0.010512</td>\n",
              "      <td>0.132212</td>\n",
              "      <td>3.842949</td>\n",
              "      <td>0.007777</td>\n",
              "      <td>1.112709</td>\n",
              "    </tr>\n",
              "    <tr>\n",
              "      <th>3</th>\n",
              "      <td>(also)</td>\n",
              "      <td>(battery)</td>\n",
              "      <td>0.034404</td>\n",
              "      <td>0.079511</td>\n",
              "      <td>0.010512</td>\n",
              "      <td>0.305556</td>\n",
              "      <td>3.842949</td>\n",
              "      <td>0.007777</td>\n",
              "      <td>1.325505</td>\n",
              "    </tr>\n",
              "    <tr>\n",
              "      <th>4</th>\n",
              "      <td>(camer)</td>\n",
              "      <td>(also)</td>\n",
              "      <td>0.108754</td>\n",
              "      <td>0.034404</td>\n",
              "      <td>0.012806</td>\n",
              "      <td>0.117750</td>\n",
              "      <td>3.422613</td>\n",
              "      <td>0.009064</td>\n",
              "      <td>1.094471</td>\n",
              "    </tr>\n",
              "  </tbody>\n",
              "</table>\n",
              "</div>"
            ],
            "text/plain": [
              "  antecedents consequents  antecedent support  ...      lift  leverage  conviction\n",
              "0    (batter)      (also)            0.080657  ...  3.788310  0.007737    1.110304\n",
              "1      (also)    (batter)            0.034404  ...  3.788310  0.007737    1.323853\n",
              "2   (battery)      (also)            0.079511  ...  3.842949  0.007777    1.112709\n",
              "3      (also)   (battery)            0.034404  ...  3.842949  0.007777    1.325505\n",
              "4     (camer)      (also)            0.108754  ...  3.422613  0.009064    1.094471\n",
              "\n",
              "[5 rows x 9 columns]"
            ]
          },
          "metadata": {
            "tags": []
          },
          "execution_count": 110
        }
      ]
    },
    {
      "cell_type": "code",
      "metadata": {
        "id": "Y1ocqhV1XrOU",
        "colab_type": "code",
        "colab": {}
      },
      "source": [
        "rules.to_csv('rules.csv')"
      ],
      "execution_count": 0,
      "outputs": []
    },
    {
      "cell_type": "code",
      "metadata": {
        "id": "xlFGeJ0PIIZk",
        "colab_type": "code",
        "colab": {}
      },
      "source": [
        "#extracting the frequent features using compactness pruning\n",
        "nlp = spacy.load('en_core_web_sm')\n",
        "tknzr=TweetTokenizer()\n",
        "rev=[]\n",
        "adj=[]\n",
        "fea=[]\n",
        "noun=[]\n",
        "dis=[]\n",
        "flag=0\n",
        "two_set = pd.DataFrame(columns=['Review','Feature','Distance'])\n",
        "features = freq['itemsets']\n",
        "sd=[]\n",
        "temp=[]\n",
        "for x in features:\n",
        "    temp=[]\n",
        "    v= str(x)\n",
        "    rt = v.strip('(')\n",
        "    rt = rt.strip(')')\n",
        "    rt = rt.split(',')\n",
        "    for k in rt:\n",
        "        temp.append(k.split(\"'\")[1])\n",
        "    sd.append(temp)\n",
        "features=sd\n",
        "#print(two_features)\n",
        "two_features=[x for x in features if len(x)==2]\n",
        "#print(two_features)\n",
        "\n",
        "for i in review_text:\n",
        "    tokens = tknzr.tokenize(i)\n",
        "    #print(tokens)\n",
        "    for feature in two_features:\n",
        "        #print(feature)\n",
        "        if feature[0] in tokens and feature[1] in tokens:\n",
        "            a=tokens.index(feature[0])\n",
        "            b=tokens.index(feature[1])\n",
        "            flag = 0\n",
        "            if abs(a-b)<=4:\n",
        "                rev.append(i)\n",
        "                fea.append(feature)\n",
        "                dis.append(a-b)\n",
        "                break\n",
        "            else:\n",
        "                rev.append(i)\n",
        "                fea.append(None)\n",
        "                dis.append(None)\n",
        "        else:\n",
        "            flag=-1\n",
        "    if flag==-1:\n",
        "        rev.append(i)\n",
        "        fea.append(None)\n",
        "        dis.append(None)\n",
        "two_set['Review']=rev\n",
        "two_set['Feature']=fea\n",
        "two_set['Distance']=dis\n",
        "    "
      ],
      "execution_count": 0,
      "outputs": []
    },
    {
      "cell_type": "code",
      "metadata": {
        "id": "OiOTlhIsIKbN",
        "colab_type": "code",
        "outputId": "0990558f-212c-4034-9df1-879bde6301e5",
        "colab": {
          "base_uri": "https://localhost:8080/",
          "height": 1000
        }
      },
      "source": [
        "frequent_features={}\n",
        "a = [str(i) for i in two_set['Feature']]\n",
        "#print(a)\n",
        "for i in two_set['Feature']:\n",
        "  #print(i)\n",
        "  a.append(str(i))\n",
        "counter = collections.Counter(a)\n",
        "for i in counter:\n",
        "    if counter[i]>2:\n",
        "        frequent_features[i]=counter[i]\n",
        "xc=pd.DataFrame.from_dict(counter,orient='index',columns=['Frequency'])\n",
        "xc.index.names=['FrequentFeatures']\n",
        "compact_frequent_items=xc.iloc[1:]\n",
        "compact_frequent_items"
      ],
      "execution_count": 0,
      "outputs": [
        {
          "output_type": "execute_result",
          "data": {
            "text/html": [
              "<div>\n",
              "<style scoped>\n",
              "    .dataframe tbody tr th:only-of-type {\n",
              "        vertical-align: middle;\n",
              "    }\n",
              "\n",
              "    .dataframe tbody tr th {\n",
              "        vertical-align: top;\n",
              "    }\n",
              "\n",
              "    .dataframe thead th {\n",
              "        text-align: right;\n",
              "    }\n",
              "</style>\n",
              "<table border=\"1\" class=\"dataframe\">\n",
              "  <thead>\n",
              "    <tr style=\"text-align: right;\">\n",
              "      <th></th>\n",
              "      <th>Frequency</th>\n",
              "    </tr>\n",
              "    <tr>\n",
              "      <th>FrequentFeatures</th>\n",
              "      <th></th>\n",
              "    </tr>\n",
              "  </thead>\n",
              "  <tbody>\n",
              "    <tr>\n",
              "      <th>['phone', 'till']</th>\n",
              "      <td>12</td>\n",
              "    </tr>\n",
              "    <tr>\n",
              "      <th>['battery', 'life']</th>\n",
              "      <td>164</td>\n",
              "    </tr>\n",
              "    <tr>\n",
              "      <th>['camera', 'battery']</th>\n",
              "      <td>100</td>\n",
              "    </tr>\n",
              "    <tr>\n",
              "      <th>['good', 'plus']</th>\n",
              "      <td>14</td>\n",
              "    </tr>\n",
              "    <tr>\n",
              "      <th>['product', 'good']</th>\n",
              "      <td>84</td>\n",
              "    </tr>\n",
              "    <tr>\n",
              "      <th>['finger', 'scanner']</th>\n",
              "      <td>20</td>\n",
              "    </tr>\n",
              "    <tr>\n",
              "      <th>['camera', 'phone']</th>\n",
              "      <td>30</td>\n",
              "    </tr>\n",
              "    <tr>\n",
              "      <th>['performance', 'battery']</th>\n",
              "      <td>22</td>\n",
              "    </tr>\n",
              "    <tr>\n",
              "      <th>['good', 'battery']</th>\n",
              "      <td>88</td>\n",
              "    </tr>\n",
              "    <tr>\n",
              "      <th>['good', 'much']</th>\n",
              "      <td>14</td>\n",
              "    </tr>\n",
              "    <tr>\n",
              "      <th>['camera', 'performance']</th>\n",
              "      <td>14</td>\n",
              "    </tr>\n",
              "    <tr>\n",
              "      <th>['camera', 'fast']</th>\n",
              "      <td>16</td>\n",
              "    </tr>\n",
              "    <tr>\n",
              "      <th>['issue', 'phone']</th>\n",
              "      <td>10</td>\n",
              "    </tr>\n",
              "    <tr>\n",
              "      <th>['money', 'value']</th>\n",
              "      <td>96</td>\n",
              "    </tr>\n",
              "    <tr>\n",
              "      <th>['good', 'phone']</th>\n",
              "      <td>142</td>\n",
              "    </tr>\n",
              "    <tr>\n",
              "      <th>['camera', 'finger']</th>\n",
              "      <td>16</td>\n",
              "    </tr>\n",
              "    <tr>\n",
              "      <th>['camera', 'quality']</th>\n",
              "      <td>98</td>\n",
              "    </tr>\n",
              "    <tr>\n",
              "      <th>['finger', 'phone']</th>\n",
              "      <td>22</td>\n",
              "    </tr>\n",
              "    <tr>\n",
              "      <th>['camera', 'product']</th>\n",
              "      <td>10</td>\n",
              "    </tr>\n",
              "    <tr>\n",
              "      <th>['good', 'awesome']</th>\n",
              "      <td>16</td>\n",
              "    </tr>\n",
              "    <tr>\n",
              "      <th>['camera', 'light']</th>\n",
              "      <td>12</td>\n",
              "    </tr>\n",
              "    <tr>\n",
              "      <th>['battery', 'also']</th>\n",
              "      <td>26</td>\n",
              "    </tr>\n",
              "    <tr>\n",
              "      <th>['ever', 'best']</th>\n",
              "      <td>70</td>\n",
              "    </tr>\n",
              "    <tr>\n",
              "      <th>['phone', 'great']</th>\n",
              "      <td>42</td>\n",
              "    </tr>\n",
              "    <tr>\n",
              "      <th>['price', 'good']</th>\n",
              "      <td>18</td>\n",
              "    </tr>\n",
              "    <tr>\n",
              "      <th>['camera', 'better']</th>\n",
              "      <td>30</td>\n",
              "    </tr>\n",
              "    <tr>\n",
              "      <th>['phone', 'best']</th>\n",
              "      <td>110</td>\n",
              "    </tr>\n",
              "    <tr>\n",
              "      <th>['camera', 'work']</th>\n",
              "      <td>8</td>\n",
              "    </tr>\n",
              "    <tr>\n",
              "      <th>['good', 'best']</th>\n",
              "      <td>16</td>\n",
              "    </tr>\n",
              "    <tr>\n",
              "      <th>['camera', 'great']</th>\n",
              "      <td>20</td>\n",
              "    </tr>\n",
              "    <tr>\n",
              "      <th>...</th>\n",
              "      <td>...</td>\n",
              "    </tr>\n",
              "    <tr>\n",
              "      <th>['back', 'phone']</th>\n",
              "      <td>12</td>\n",
              "    </tr>\n",
              "    <tr>\n",
              "      <th>['quality', 'fingerprint']</th>\n",
              "      <td>8</td>\n",
              "    </tr>\n",
              "    <tr>\n",
              "      <th>['problem', 'phone']</th>\n",
              "      <td>16</td>\n",
              "    </tr>\n",
              "    <tr>\n",
              "      <th>['finger', 'time']</th>\n",
              "      <td>2</td>\n",
              "    </tr>\n",
              "    <tr>\n",
              "      <th>['work', 'time']</th>\n",
              "      <td>4</td>\n",
              "    </tr>\n",
              "    <tr>\n",
              "      <th>['head', 'phone']</th>\n",
              "      <td>4</td>\n",
              "    </tr>\n",
              "    <tr>\n",
              "      <th>['finger', 'great']</th>\n",
              "      <td>2</td>\n",
              "    </tr>\n",
              "    <tr>\n",
              "      <th>['face', 'battery']</th>\n",
              "      <td>8</td>\n",
              "    </tr>\n",
              "    <tr>\n",
              "      <th>['smooth', 'phone']</th>\n",
              "      <td>4</td>\n",
              "    </tr>\n",
              "    <tr>\n",
              "      <th>['every', 'ever']</th>\n",
              "      <td>2</td>\n",
              "    </tr>\n",
              "    <tr>\n",
              "      <th>['camera', 'face']</th>\n",
              "      <td>6</td>\n",
              "    </tr>\n",
              "    <tr>\n",
              "      <th>['never', 'ever']</th>\n",
              "      <td>2</td>\n",
              "    </tr>\n",
              "    <tr>\n",
              "      <th>['finger', 'like']</th>\n",
              "      <td>4</td>\n",
              "    </tr>\n",
              "    <tr>\n",
              "      <th>['work', 'proper']</th>\n",
              "      <td>2</td>\n",
              "    </tr>\n",
              "    <tr>\n",
              "      <th>['good', 'great']</th>\n",
              "      <td>4</td>\n",
              "    </tr>\n",
              "    <tr>\n",
              "      <th>['finger', 'life']</th>\n",
              "      <td>2</td>\n",
              "    </tr>\n",
              "    <tr>\n",
              "      <th>['play', 'battery']</th>\n",
              "      <td>2</td>\n",
              "    </tr>\n",
              "    <tr>\n",
              "      <th>['well', 'phone']</th>\n",
              "      <td>4</td>\n",
              "    </tr>\n",
              "    <tr>\n",
              "      <th>['plus', 'ever']</th>\n",
              "      <td>2</td>\n",
              "    </tr>\n",
              "    <tr>\n",
              "      <th>['mark', 'phone']</th>\n",
              "      <td>2</td>\n",
              "    </tr>\n",
              "    <tr>\n",
              "      <th>['star', 'phone']</th>\n",
              "      <td>2</td>\n",
              "    </tr>\n",
              "    <tr>\n",
              "      <th>['ever', 'life']</th>\n",
              "      <td>2</td>\n",
              "    </tr>\n",
              "    <tr>\n",
              "      <th>['call', 'phone']</th>\n",
              "      <td>2</td>\n",
              "    </tr>\n",
              "    <tr>\n",
              "      <th>['much', 'phone']</th>\n",
              "      <td>4</td>\n",
              "    </tr>\n",
              "    <tr>\n",
              "      <th>['good', 'batter']</th>\n",
              "      <td>2</td>\n",
              "    </tr>\n",
              "    <tr>\n",
              "      <th>['deliver', 'delivery']</th>\n",
              "      <td>2</td>\n",
              "    </tr>\n",
              "    <tr>\n",
              "      <th>['good', 'light']</th>\n",
              "      <td>2</td>\n",
              "    </tr>\n",
              "    <tr>\n",
              "      <th>['quality', 'finger']</th>\n",
              "      <td>2</td>\n",
              "    </tr>\n",
              "    <tr>\n",
              "      <th>['face', 'finger']</th>\n",
              "      <td>6</td>\n",
              "    </tr>\n",
              "    <tr>\n",
              "      <th>['screen', 'good']</th>\n",
              "      <td>2</td>\n",
              "    </tr>\n",
              "  </tbody>\n",
              "</table>\n",
              "<p>165 rows × 1 columns</p>\n",
              "</div>"
            ],
            "text/plain": [
              "                            Frequency\n",
              "FrequentFeatures                     \n",
              "['phone', 'till']                  12\n",
              "['battery', 'life']               164\n",
              "['camera', 'battery']             100\n",
              "['good', 'plus']                   14\n",
              "['product', 'good']                84\n",
              "['finger', 'scanner']              20\n",
              "['camera', 'phone']                30\n",
              "['performance', 'battery']         22\n",
              "['good', 'battery']                88\n",
              "['good', 'much']                   14\n",
              "['camera', 'performance']          14\n",
              "['camera', 'fast']                 16\n",
              "['issue', 'phone']                 10\n",
              "['money', 'value']                 96\n",
              "['good', 'phone']                 142\n",
              "['camera', 'finger']               16\n",
              "['camera', 'quality']              98\n",
              "['finger', 'phone']                22\n",
              "['camera', 'product']              10\n",
              "['good', 'awesome']                16\n",
              "['camera', 'light']                12\n",
              "['battery', 'also']                26\n",
              "['ever', 'best']                   70\n",
              "['phone', 'great']                 42\n",
              "['price', 'good']                  18\n",
              "['camera', 'better']               30\n",
              "['phone', 'best']                 110\n",
              "['camera', 'work']                  8\n",
              "['good', 'best']                   16\n",
              "['camera', 'great']                20\n",
              "...                               ...\n",
              "['back', 'phone']                  12\n",
              "['quality', 'fingerprint']          8\n",
              "['problem', 'phone']               16\n",
              "['finger', 'time']                  2\n",
              "['work', 'time']                    4\n",
              "['head', 'phone']                   4\n",
              "['finger', 'great']                 2\n",
              "['face', 'battery']                 8\n",
              "['smooth', 'phone']                 4\n",
              "['every', 'ever']                   2\n",
              "['camera', 'face']                  6\n",
              "['never', 'ever']                   2\n",
              "['finger', 'like']                  4\n",
              "['work', 'proper']                  2\n",
              "['good', 'great']                   4\n",
              "['finger', 'life']                  2\n",
              "['play', 'battery']                 2\n",
              "['well', 'phone']                   4\n",
              "['plus', 'ever']                    2\n",
              "['mark', 'phone']                   2\n",
              "['star', 'phone']                   2\n",
              "['ever', 'life']                    2\n",
              "['call', 'phone']                   2\n",
              "['much', 'phone']                   4\n",
              "['good', 'batter']                  2\n",
              "['deliver', 'delivery']             2\n",
              "['good', 'light']                   2\n",
              "['quality', 'finger']               2\n",
              "['face', 'finger']                  6\n",
              "['screen', 'good']                  2\n",
              "\n",
              "[165 rows x 1 columns]"
            ]
          },
          "metadata": {
            "tags": []
          },
          "execution_count": 113
        }
      ]
    },
    {
      "cell_type": "code",
      "metadata": {
        "id": "nMnXVqLoIMQ_",
        "colab_type": "code",
        "colab": {}
      },
      "source": [
        "Creating a dataframe\n",
        "pd.DataFrame(compact_frequent_items).to_csv('compact_frequent_frequent.csv')"
      ],
      "execution_count": 0,
      "outputs": []
    },
    {
      "cell_type": "code",
      "metadata": {
        "id": "SINa32WjI_Aq",
        "colab_type": "code",
        "colab": {}
      },
      "source": [
        "df_nouns = df_nouns.loc[3:]"
      ],
      "execution_count": 0,
      "outputs": []
    },
    {
      "cell_type": "code",
      "metadata": {
        "id": "5N5ZFdqLLZ3f",
        "colab_type": "code",
        "colab": {}
      },
      "source": [
        "#reading the reviews, frequent itemsets of apriori and compactness pruning\n",
        "reviews = pd.read_csv('reviews-all_reviews-default-2019-06-23.csv')\n",
        "apriori = pd.read_csv('frequent_itemsets.csv')\n",
        "compact_prune = pd.read_csv('compact_frequent_frequent.csv')"
      ],
      "execution_count": 0,
      "outputs": []
    },
    {
      "cell_type": "code",
      "metadata": {
        "id": "kwBHM80ySrey",
        "colab_type": "code",
        "colab": {}
      },
      "source": [
        "rev_text = reviews['Review Text']\n",
        "compact_prune.columns=['comp_feat','freq']\n",
        "apr_text = apriori.itemsets\n",
        "sd=[]\n",
        "temp=[]\n",
        "for i in apr_text:\n",
        "  temp=[]\n",
        "  rt = i.strip('[]')\n",
        "  rt=rt.split(',')\n",
        "  for k in rt:\n",
        "    temp.append(k.split(\"'\")[1])\n",
        "  sd.append(temp)\n",
        "features = sd"
      ],
      "execution_count": 0,
      "outputs": []
    },
    {
      "cell_type": "code",
      "metadata": {
        "id": "rpKqBot-TKaM",
        "colab_type": "code",
        "colab": {}
      },
      "source": [
        "comp_text = compact_prune.comp_feat"
      ],
      "execution_count": 0,
      "outputs": []
    },
    {
      "cell_type": "code",
      "metadata": {
        "id": "kW2YRHPnTi0l",
        "colab_type": "code",
        "colab": {}
      },
      "source": [
        "#Applying redundancy pruning with features greater than 1\n",
        "one_features = [x for x in features if len(x)==1]\n",
        "sd=[]\n",
        "temp=[]\n",
        "for x in compact_prune.comp_feat:\n",
        "  temp=[]\n",
        "  rt = x.strip('[]')\n",
        "  rt = rt.split(',')\n",
        "  for k in rt:\n",
        "    temp.append(k.split(\"'\")[1])\n",
        "  sd.append(temp)\n",
        "two_feature = sd\n",
        "#len(two_feature)"
      ],
      "execution_count": 0,
      "outputs": []
    },
    {
      "cell_type": "code",
      "metadata": {
        "id": "7dZcj0uvQDf2",
        "colab_type": "code",
        "colab": {}
      },
      "source": [
        "#creating the data frame\n",
        "one = pd.DataFrame(one_features)\n",
        "one.to_csv('one_features.csv')\n"
      ],
      "execution_count": 0,
      "outputs": []
    },
    {
      "cell_type": "code",
      "metadata": {
        "id": "vbETnWUfUHUl",
        "colab_type": "code",
        "colab": {}
      },
      "source": [
        "#calculating p value\n",
        "p_value=dict()\n",
        "for i in reviews.iterrows():\n",
        "  sent_token = list(map(str.lower,nltk.sent_tokenize(i[1][10])))\n",
        "  #print(sent_token)\n",
        "  for j in sent_token:\n",
        "    wrd_tok = nltk.wordpunct_tokenize(j)\n",
        "    #print(wrd_tok)\n",
        "    tokens = [i.strip(\"!@#$%&*?.,/-;:\\'\") for i in wrd_tok]\n",
        "    #print(tokens)\n",
        "    for one in one_features:\n",
        "      if one[0] in tokens:\n",
        "        p_value[one[0]] = p_value.setdefault(one[0], 0) + 1  \n",
        "      #print(p_value[one[0]])"
      ],
      "execution_count": 0,
      "outputs": []
    },
    {
      "cell_type": "code",
      "metadata": {
        "id": "QB54XvASV4h6",
        "colab_type": "code",
        "colab": {}
      },
      "source": [
        "#sorting the p values\n",
        "sorted_pvalue = sorted(p_value.items(), reverse=True, key=itemgetter(1))"
      ],
      "execution_count": 0,
      "outputs": []
    },
    {
      "cell_type": "code",
      "metadata": {
        "id": "3f81NcvoeA4D",
        "colab_type": "code",
        "colab": {}
      },
      "source": [
        "#checking p value with features \n",
        "updated_pval = dict()\n",
        "for index1,one in enumerate(sorted_pvalue):\n",
        "  p_val = sorted_pvalue[index1][1]\n",
        "  for index2,two in enumerate(two_feature):\n",
        "    if one[0] in two:\n",
        "      p_val = p_val - compact_prune.freq[index2]\n",
        "  updated_pval[one[0]] = p_val"
      ],
      "execution_count": 0,
      "outputs": []
    },
    {
      "cell_type": "code",
      "metadata": {
        "id": "RZUPzvrPfY6v",
        "colab_type": "code",
        "colab": {}
      },
      "source": [
        "#sorting the updated p values\n",
        "updated_pval = sorted(updated_pval.items(), reverse=True, key=itemgetter(1))"
      ],
      "execution_count": 0,
      "outputs": []
    },
    {
      "cell_type": "code",
      "metadata": {
        "id": "0XoYDgREfbBN",
        "colab_type": "code",
        "colab": {}
      },
      "source": [
        "#creating the data frames\n",
        "df_pvalue = pd.DataFrame.from_dict(updated_pval)\n",
        "df_pvalue.columns = ['Features','p_value']\n",
        "df_pvalue.to_csv('compact_prune_words.csv')\n"
      ],
      "execution_count": 0,
      "outputs": []
    },
    {
      "cell_type": "code",
      "metadata": {
        "id": "pVTxKRPBfmVd",
        "colab_type": "code",
        "outputId": "8d7b4d93-7e61-4757-e87b-0255d35d0b14",
        "colab": {
          "base_uri": "https://localhost:8080/",
          "height": 204
        }
      },
      "source": [
        "df_pvalue.head()"
      ],
      "execution_count": 0,
      "outputs": [
        {
          "output_type": "execute_result",
          "data": {
            "text/html": [
              "<div>\n",
              "<style scoped>\n",
              "    .dataframe tbody tr th:only-of-type {\n",
              "        vertical-align: middle;\n",
              "    }\n",
              "\n",
              "    .dataframe tbody tr th {\n",
              "        vertical-align: top;\n",
              "    }\n",
              "\n",
              "    .dataframe thead th {\n",
              "        text-align: right;\n",
              "    }\n",
              "</style>\n",
              "<table border=\"1\" class=\"dataframe\">\n",
              "  <thead>\n",
              "    <tr style=\"text-align: right;\">\n",
              "      <th></th>\n",
              "      <th>Features</th>\n",
              "      <th>p_value</th>\n",
              "    </tr>\n",
              "  </thead>\n",
              "  <tbody>\n",
              "    <tr>\n",
              "      <th>0</th>\n",
              "      <td></td>\n",
              "      <td>6416</td>\n",
              "    </tr>\n",
              "    <tr>\n",
              "      <th>1</th>\n",
              "      <td>phone</td>\n",
              "      <td>920</td>\n",
              "    </tr>\n",
              "    <tr>\n",
              "      <th>2</th>\n",
              "      <td>good</td>\n",
              "      <td>736</td>\n",
              "    </tr>\n",
              "    <tr>\n",
              "      <th>3</th>\n",
              "      <td>oneplus</td>\n",
              "      <td>452</td>\n",
              "    </tr>\n",
              "    <tr>\n",
              "      <th>4</th>\n",
              "      <td>product</td>\n",
              "      <td>416</td>\n",
              "    </tr>\n",
              "  </tbody>\n",
              "</table>\n",
              "</div>"
            ],
            "text/plain": [
              "  Features  p_value\n",
              "0              6416\n",
              "1    phone      920\n",
              "2     good      736\n",
              "3  oneplus      452\n",
              "4  product      416"
            ]
          },
          "metadata": {
            "tags": []
          },
          "execution_count": 128
        }
      ]
    },
    {
      "cell_type": "code",
      "metadata": {
        "id": "dvN-VKu3hL9z",
        "colab_type": "code",
        "outputId": "a998ab1f-d400-4fa1-ebbd-d463829c2d8a",
        "colab": {
          "base_uri": "https://localhost:8080/",
          "height": 235
        }
      },
      "source": [
        "compact_prune = xc.iloc[1:].copy()\n",
        "compact_prune.head()"
      ],
      "execution_count": 0,
      "outputs": [
        {
          "output_type": "execute_result",
          "data": {
            "text/html": [
              "<div>\n",
              "<style scoped>\n",
              "    .dataframe tbody tr th:only-of-type {\n",
              "        vertical-align: middle;\n",
              "    }\n",
              "\n",
              "    .dataframe tbody tr th {\n",
              "        vertical-align: top;\n",
              "    }\n",
              "\n",
              "    .dataframe thead th {\n",
              "        text-align: right;\n",
              "    }\n",
              "</style>\n",
              "<table border=\"1\" class=\"dataframe\">\n",
              "  <thead>\n",
              "    <tr style=\"text-align: right;\">\n",
              "      <th></th>\n",
              "      <th>Frequency</th>\n",
              "    </tr>\n",
              "    <tr>\n",
              "      <th>FrequentFeatures</th>\n",
              "      <th></th>\n",
              "    </tr>\n",
              "  </thead>\n",
              "  <tbody>\n",
              "    <tr>\n",
              "      <th>['phone', 'till']</th>\n",
              "      <td>12</td>\n",
              "    </tr>\n",
              "    <tr>\n",
              "      <th>['battery', 'life']</th>\n",
              "      <td>164</td>\n",
              "    </tr>\n",
              "    <tr>\n",
              "      <th>['camera', 'battery']</th>\n",
              "      <td>100</td>\n",
              "    </tr>\n",
              "    <tr>\n",
              "      <th>['good', 'plus']</th>\n",
              "      <td>14</td>\n",
              "    </tr>\n",
              "    <tr>\n",
              "      <th>['product', 'good']</th>\n",
              "      <td>84</td>\n",
              "    </tr>\n",
              "  </tbody>\n",
              "</table>\n",
              "</div>"
            ],
            "text/plain": [
              "                       Frequency\n",
              "FrequentFeatures                \n",
              "['phone', 'till']             12\n",
              "['battery', 'life']          164\n",
              "['camera', 'battery']        100\n",
              "['good', 'plus']              14\n",
              "['product', 'good']           84"
            ]
          },
          "metadata": {
            "tags": []
          },
          "execution_count": 129
        }
      ]
    },
    {
      "cell_type": "code",
      "metadata": {
        "id": "yhRb0p4mhbXZ",
        "colab_type": "code",
        "colab": {}
      },
      "source": [
        "df_pvalue['Features'] = df_pvalue['Features']"
      ],
      "execution_count": 0,
      "outputs": []
    },
    {
      "cell_type": "code",
      "metadata": {
        "id": "B1-KUMyJhz_n",
        "colab_type": "code",
        "outputId": "77e8c0dd-4628-4aa4-a78a-5276963b37a6",
        "colab": {
          "base_uri": "https://localhost:8080/",
          "height": 153
        }
      },
      "source": [
        "final_features = pd.concat([compact_prune,df_pvalue])"
      ],
      "execution_count": 0,
      "outputs": [
        {
          "output_type": "stream",
          "text": [
            "/usr/local/lib/python3.6/dist-packages/ipykernel_launcher.py:1: FutureWarning: Sorting because non-concatenation axis is not aligned. A future version\n",
            "of pandas will change to not sort by default.\n",
            "\n",
            "To accept the future behavior, pass 'sort=False'.\n",
            "\n",
            "To retain the current behavior and silence the warning, pass 'sort=True'.\n",
            "\n",
            "  \"\"\"Entry point for launching an IPython kernel.\n"
          ],
          "name": "stderr"
        }
      ]
    },
    {
      "cell_type": "code",
      "metadata": {
        "id": "8eMvuX4Qih4u",
        "colab_type": "code",
        "colab": {}
      },
      "source": [
        "final_features.to_csv('final_features.csv')"
      ],
      "execution_count": 0,
      "outputs": []
    },
    {
      "cell_type": "code",
      "metadata": {
        "id": "eeN21VKcjrcG",
        "colab_type": "code",
        "colab": {}
      },
      "source": [
        "#manual labels for the categories\n",
        "possible_labels= {\n",
        "'Display':['time screen','screen','phone screen','screen quality','display quality','performance display','screen','phone screen','performance display','life display','phone display','display price','display'],\n",
        "'Audio':['sound quality','volume','speaker sound','speaker quality','time sound','Jack','sound','head phone','phone sound','speaker sound','speaker quality','speaker'],\n",
        "'Body':['build','build quality','phone look','prodcut quality','phone quality','mobile quality',\"device quality\"],\n",
        "'Memory':['card slot','ram','memory'],\n",
        "'Platform':['app camera','camera software','processor quality','processor','software','phone software','phone update','phone processor','android phone','android'],\n",
        "'Camera':['video quality','camera mobile','camera experience','camera price','product camera','camera pro','beast camera','camera feature','charge camera','camera','camera quality','video camera','camera mode','face camera','phone camera','camera issue','light camera','speed camera',\"picture quality\",\"camera performance\"],\n",
        "'Back Camera':['back camera','pixel','rear camera'],\n",
        "'Front Camera':['front camera','face camera'],\n",
        "'Misc':['color'],\n",
        "'Issues':['issue','phone problem','phone issue','month issue','camera issue','day issue','life issue','issue quality','battery issue'],\n",
        "\n",
        "'Features':['fingerprint','face unlock','phone unlock','unlock'],\n",
        "'Battery':['charging phone','battery feature','battery usage','battery','charging','battery problem','charger','charge','battery usage','charge battery','battery charging','dash charger','dash charging','battery back','battery life','battery backup','battery product','life battery','app battery','battery back','battery mobile','battery bit','battery speed','battery performance','battery phone','battery charger','battery quality'],\n",
        "'Price':['display price','month price','budget','price','flagship price','phone value','camera value','product price','range price','mobile price','phone price','range phone'],\n",
        "'Performance':['sound performance','performance device','speed','phone performance','speed performance','performance mobile']\n",
        "}"
      ],
      "execution_count": 0,
      "outputs": []
    },
    {
      "cell_type": "code",
      "metadata": {
        "id": "YJ82-kaZyQ39",
        "colab_type": "code",
        "colab": {}
      },
      "source": [
        "#cleaning the reviews\n",
        "reviews1 = [re.sub(\"[^a-zA-Z]\", \" \",s) for s in reviews1]"
      ],
      "execution_count": 0,
      "outputs": []
    },
    {
      "cell_type": "code",
      "metadata": {
        "id": "3n7br0wNzf9z",
        "colab_type": "code",
        "colab": {}
      },
      "source": [
        "#extracting opinions from the reviews with possible albels\n",
        "def opinion_sent(review):\n",
        "    opinion=[]\n",
        "    sent=sent_tokenize(review.lower())\n",
        "    for i in sent:\n",
        "        opinion_sent=[]\n",
        "        cat=[]\n",
        "        for label in possible_labels.keys():\n",
        "            if (any(re.search(feature,i) for feature in possible_labels[label])):\n",
        "                opinion_sent.append(i)   \n",
        "        opinion.append(list(set(opinion_sent))) \n",
        "        flatted_opinion =[y for x in opinion for y in x]\n",
        "    return(', '.join(flatted_opinion))"
      ],
      "execution_count": 0,
      "outputs": []
    },
    {
      "cell_type": "code",
      "metadata": {
        "id": "xiEQPLF2XfvB",
        "colab_type": "code",
        "colab": {}
      },
      "source": [
        "opinion_df = pd.DataFrame()"
      ],
      "execution_count": 0,
      "outputs": []
    },
    {
      "cell_type": "code",
      "metadata": {
        "id": "qem89xYJXk3c",
        "colab_type": "code",
        "colab": {}
      },
      "source": [
        "opinion_df['Review Text'] = review_data['Review Text']"
      ],
      "execution_count": 0,
      "outputs": []
    },
    {
      "cell_type": "code",
      "metadata": {
        "id": "vSv5KoJiXkzC",
        "colab_type": "code",
        "colab": {}
      },
      "source": [
        "#applying the opinion sent function\n",
        "opinion_df[\"opinion_sent\"] = opinion_df['Review Text'].apply(opinion_sent)"
      ],
      "execution_count": 0,
      "outputs": []
    },
    {
      "cell_type": "code",
      "metadata": {
        "id": "COQxhEK2Xkw1",
        "colab_type": "code",
        "colab": {}
      },
      "source": [
        "#Counting the number of categories\n",
        "def categories(review):\n",
        "  category=[]\n",
        "  sent = sent_tokenize(review.lower())\n",
        "  for i in sent:\n",
        "    opinion_sent=[]\n",
        "    cat=[]\n",
        "    for label in possible_labels.keys():\n",
        "      if (any(re.search(feature,i) for feature in possible_labels[label])):\n",
        "        cat.append(label)\n",
        "    category.append(cat)\n",
        "    flatted_cat =[y for x in category for y in x]\n",
        "    unique=list(set(flatted_cat))\n",
        "  return(', '.join(unique))"
      ],
      "execution_count": 0,
      "outputs": []
    },
    {
      "cell_type": "code",
      "metadata": {
        "id": "JzAVYme-uucf",
        "colab_type": "code",
        "colab": {}
      },
      "source": [
        "#applying the categories function\n",
        "opinion_df['categories'] = opinion_df['Review Text'].apply(categories)"
      ],
      "execution_count": 0,
      "outputs": []
    },
    {
      "cell_type": "code",
      "metadata": {
        "id": "GKVN4B3Tjs_a",
        "colab_type": "code",
        "colab": {}
      },
      "source": [
        "opinion_df = opinion_df[opinion_df.categories!=\"\"]"
      ],
      "execution_count": 0,
      "outputs": []
    },
    {
      "cell_type": "code",
      "metadata": {
        "id": "-Akc_15ywBgd",
        "colab_type": "code",
        "outputId": "aa51b7bf-2fc3-48ac-cc06-6b00c9e13e9e",
        "colab": {
          "base_uri": "https://localhost:8080/",
          "height": 204
        }
      },
      "source": [
        "opinion_df.head()"
      ],
      "execution_count": 0,
      "outputs": [
        {
          "output_type": "execute_result",
          "data": {
            "text/html": [
              "<div>\n",
              "<style scoped>\n",
              "    .dataframe tbody tr th:only-of-type {\n",
              "        vertical-align: middle;\n",
              "    }\n",
              "\n",
              "    .dataframe tbody tr th {\n",
              "        vertical-align: top;\n",
              "    }\n",
              "\n",
              "    .dataframe thead th {\n",
              "        text-align: right;\n",
              "    }\n",
              "</style>\n",
              "<table border=\"1\" class=\"dataframe\">\n",
              "  <thead>\n",
              "    <tr style=\"text-align: right;\">\n",
              "      <th></th>\n",
              "      <th>Review Text</th>\n",
              "      <th>opinion_sent</th>\n",
              "      <th>categories</th>\n",
              "    </tr>\n",
              "  </thead>\n",
              "  <tbody>\n",
              "    <tr>\n",
              "      <th>1</th>\n",
              "      <td>Battery life could have been better</td>\n",
              "      <td>battery life could have been better</td>\n",
              "      <td>Battery</td>\n",
              "    </tr>\n",
              "    <tr>\n",
              "      <th>4</th>\n",
              "      <td>All in all, this is the best phone you can get...</td>\n",
              "      <td>pros:\\n1) great notch\\n2) face unlock is real ...</td>\n",
              "      <td>Display, Battery, Camera, Platform, Memory, Fe...</td>\n",
              "    </tr>\n",
              "    <tr>\n",
              "      <th>5</th>\n",
              "      <td>Ideal for budget phone</td>\n",
              "      <td>ideal for budget phone</td>\n",
              "      <td>Price</td>\n",
              "    </tr>\n",
              "    <tr>\n",
              "      <th>7</th>\n",
              "      <td>i like everything. natural like camera quality...</td>\n",
              "      <td>natural like camera quality, decent battery li...</td>\n",
              "      <td>Battery, Camera</td>\n",
              "    </tr>\n",
              "    <tr>\n",
              "      <th>8</th>\n",
              "      <td>Camera poor</td>\n",
              "      <td>camera poor</td>\n",
              "      <td>Camera</td>\n",
              "    </tr>\n",
              "  </tbody>\n",
              "</table>\n",
              "</div>"
            ],
            "text/plain": [
              "                                         Review Text  ...                                         categories\n",
              "1                Battery life could have been better  ...                                            Battery\n",
              "4  All in all, this is the best phone you can get...  ...  Display, Battery, Camera, Platform, Memory, Fe...\n",
              "5                             Ideal for budget phone  ...                                              Price\n",
              "7  i like everything. natural like camera quality...  ...                                    Battery, Camera\n",
              "8                                        Camera poor  ...                                             Camera\n",
              "\n",
              "[5 rows x 3 columns]"
            ]
          },
          "metadata": {
            "tags": []
          },
          "execution_count": 142
        }
      ]
    },
    {
      "cell_type": "code",
      "metadata": {
        "id": "1gYhnr3OwFTz",
        "colab_type": "code",
        "colab": {}
      },
      "source": [
        "#counting the number of categories\n",
        "def count(opinion):\n",
        "  features=[]\n",
        "  count=[]\n",
        "  for label in possible_labels.keys():\n",
        "    features.append(label)\n",
        "    count.append(opinion.loc[:,\"categories\"].apply(lambda x: x.count(str(label))).sum())\n",
        "  value = pd.DataFrame()\n",
        "  value['Labels'] = features\n",
        "  value['Count'] = count\n",
        "  return(value)"
      ],
      "execution_count": 0,
      "outputs": []
    },
    {
      "cell_type": "code",
      "metadata": {
        "id": "f2gL0OAlR-8o",
        "colab_type": "code",
        "colab": {}
      },
      "source": [
        "#def no_adjective(opinion_sent):\n",
        "#    adj_count=0\n",
        "#    #for i in opinion_sent:\n",
        "#    parse=nlp(opinion_sent)\n",
        "#    for j in parse:\n",
        "#        if (re.get_pos(j)==\"ADJ\"):\n",
        "#            adj_count+=1\n",
        "#    return(adj_count)"
      ],
      "execution_count": 0,
      "outputs": []
    },
    {
      "cell_type": "code",
      "metadata": {
        "id": "W22DHzGC11XA",
        "colab_type": "code",
        "colab": {}
      },
      "source": [
        "#the number of adjectives from opinion sent\n",
        "def no_adject(opinion_sent):\n",
        "  adj_count=0\n",
        "  adjectives = deEmojify(opinion_sent)\n",
        "  adjectives = [re.sub('[.]+',' ',s) for s in adjectives]\n",
        "  adjectives = [re.sub('[,]+',' ',s) for s in adjectives]\n",
        "  adjectives= [re.sub('[\\n]+',' ',s) for s in adjectives]\n",
        "  adjectives= [re.sub(\"[']+\",' ',s) for s in adjectives]\n",
        "  adjectives = [re.sub('[@,&,!]+', '', s) for s in adjectives ]\n",
        "  adjectives = [re.sub('[0-9]','',s)for s in adjectives]\n",
        "  adjectives = [re.sub(r'[.|,|)|(|\\|/]',r' ',s)for s in adjectives]\n",
        "  adjectives = [re.sub(r'[?|!|\\'|\"|#]',r'',s)for s in adjectives]\n",
        "  adjectives = [re.sub('[+]+','',s)for s in adjectives]\n",
        "  adjectives = [re.sub('[:]+','',s)for s in adjectives]\n",
        "  adjectives = [re.sub('[%]+','',s)for s in adjectives]\n",
        "  adjectives = [re.sub('[-]+','',s)for s in adjectives]\n",
        "  adjective_tokens=[]\n",
        "  for i in adjectives:\n",
        "    tokenized_word = word_tokenize(i)\n",
        "    adjective_tokens.append(tokenized_word)\n",
        "  #import nltk\n",
        "  #nltk.download('averaged_perceptron_tagger')\n",
        "  pos_adj=[]\n",
        "  for i in adjective_tokens:\n",
        "    pos = nltk.pos_tag(i)\n",
        "    pos_adj.append(pos)\n",
        "  adject=[]\n",
        "  for i in pos_adj:\n",
        "    temp = [j[0] for j in i if j[1].startswith('JJ')]\n",
        "    adj_count+=1\n",
        " \n",
        "  return(adj_count)\n",
        "    \n",
        "  "
      ],
      "execution_count": 0,
      "outputs": []
    },
    {
      "cell_type": "code",
      "metadata": {
        "id": "VT8LNwAGk4yM",
        "colab_type": "code",
        "colab": {}
      },
      "source": [
        "#applying the no_adject function\n",
        "opinion_df['No_adj'] = opinion_df['opinion_sent'].apply(no_adject)"
      ],
      "execution_count": 0,
      "outputs": []
    },
    {
      "cell_type": "code",
      "metadata": {
        "id": "RVoM_rNkm_YH",
        "colab_type": "code",
        "outputId": "ce7586b3-90eb-4e73-8fc7-e280c32de830",
        "colab": {
          "base_uri": "https://localhost:8080/",
          "height": 204
        }
      },
      "source": [
        "opinion_df.head()"
      ],
      "execution_count": 0,
      "outputs": [
        {
          "output_type": "execute_result",
          "data": {
            "text/html": [
              "<div>\n",
              "<style scoped>\n",
              "    .dataframe tbody tr th:only-of-type {\n",
              "        vertical-align: middle;\n",
              "    }\n",
              "\n",
              "    .dataframe tbody tr th {\n",
              "        vertical-align: top;\n",
              "    }\n",
              "\n",
              "    .dataframe thead th {\n",
              "        text-align: right;\n",
              "    }\n",
              "</style>\n",
              "<table border=\"1\" class=\"dataframe\">\n",
              "  <thead>\n",
              "    <tr style=\"text-align: right;\">\n",
              "      <th></th>\n",
              "      <th>Review Text</th>\n",
              "      <th>opinion_sent</th>\n",
              "      <th>categories</th>\n",
              "      <th>No_adj</th>\n",
              "    </tr>\n",
              "  </thead>\n",
              "  <tbody>\n",
              "    <tr>\n",
              "      <th>1</th>\n",
              "      <td>Battery life could have been better</td>\n",
              "      <td>battery life could have been better</td>\n",
              "      <td>Battery</td>\n",
              "      <td>35</td>\n",
              "    </tr>\n",
              "    <tr>\n",
              "      <th>4</th>\n",
              "      <td>All in all, this is the best phone you can get...</td>\n",
              "      <td>pros:\\n1) great notch\\n2) face unlock is real ...</td>\n",
              "      <td>Display, Battery, Camera, Platform, Memory, Fe...</td>\n",
              "      <td>361</td>\n",
              "    </tr>\n",
              "    <tr>\n",
              "      <th>5</th>\n",
              "      <td>Ideal for budget phone</td>\n",
              "      <td>ideal for budget phone</td>\n",
              "      <td>Price</td>\n",
              "      <td>22</td>\n",
              "    </tr>\n",
              "    <tr>\n",
              "      <th>7</th>\n",
              "      <td>i like everything. natural like camera quality...</td>\n",
              "      <td>natural like camera quality, decent battery li...</td>\n",
              "      <td>Battery, Camera</td>\n",
              "      <td>52</td>\n",
              "    </tr>\n",
              "    <tr>\n",
              "      <th>8</th>\n",
              "      <td>Camera poor</td>\n",
              "      <td>camera poor</td>\n",
              "      <td>Camera</td>\n",
              "      <td>11</td>\n",
              "    </tr>\n",
              "  </tbody>\n",
              "</table>\n",
              "</div>"
            ],
            "text/plain": [
              "                                         Review Text  ... No_adj\n",
              "1                Battery life could have been better  ...     35\n",
              "4  All in all, this is the best phone you can get...  ...    361\n",
              "5                             Ideal for budget phone  ...     22\n",
              "7  i like everything. natural like camera quality...  ...     52\n",
              "8                                        Camera poor  ...     11\n",
              "\n",
              "[5 rows x 4 columns]"
            ]
          },
          "metadata": {
            "tags": []
          },
          "execution_count": 147
        }
      ]
    },
    {
      "cell_type": "code",
      "metadata": {
        "id": "2tSNqNc-lGWq",
        "colab_type": "code",
        "colab": {}
      },
      "source": [
        "#calculating the raank\n",
        "def ranking(review):\n",
        "  labels = review['categories']\n",
        "  cat = labels.split(\",\")\n",
        "  rank = len(cat)*review['No_adj']\n",
        "  return(rank)"
      ],
      "execution_count": 0,
      "outputs": []
    },
    {
      "cell_type": "code",
      "metadata": {
        "id": "y1QIrPRklv-s",
        "colab_type": "code",
        "colab": {}
      },
      "source": [
        "opinion_df['Ranking'] = opinion_df.apply(ranking,axis=1)"
      ],
      "execution_count": 0,
      "outputs": []
    },
    {
      "cell_type": "code",
      "metadata": {
        "id": "yxq71ZNio-CS",
        "colab_type": "code",
        "outputId": "2cecd56d-840d-4314-8951-481b39dbc46e",
        "colab": {
          "base_uri": "https://localhost:8080/",
          "height": 204
        }
      },
      "source": [
        "opinion_df.head(5)"
      ],
      "execution_count": 0,
      "outputs": [
        {
          "output_type": "execute_result",
          "data": {
            "text/html": [
              "<div>\n",
              "<style scoped>\n",
              "    .dataframe tbody tr th:only-of-type {\n",
              "        vertical-align: middle;\n",
              "    }\n",
              "\n",
              "    .dataframe tbody tr th {\n",
              "        vertical-align: top;\n",
              "    }\n",
              "\n",
              "    .dataframe thead th {\n",
              "        text-align: right;\n",
              "    }\n",
              "</style>\n",
              "<table border=\"1\" class=\"dataframe\">\n",
              "  <thead>\n",
              "    <tr style=\"text-align: right;\">\n",
              "      <th></th>\n",
              "      <th>Review Text</th>\n",
              "      <th>opinion_sent</th>\n",
              "      <th>categories</th>\n",
              "      <th>No_adj</th>\n",
              "      <th>Ranking</th>\n",
              "    </tr>\n",
              "  </thead>\n",
              "  <tbody>\n",
              "    <tr>\n",
              "      <th>1</th>\n",
              "      <td>Battery life could have been better</td>\n",
              "      <td>battery life could have been better</td>\n",
              "      <td>Battery</td>\n",
              "      <td>35</td>\n",
              "      <td>35</td>\n",
              "    </tr>\n",
              "    <tr>\n",
              "      <th>4</th>\n",
              "      <td>All in all, this is the best phone you can get...</td>\n",
              "      <td>pros:\\n1) great notch\\n2) face unlock is real ...</td>\n",
              "      <td>Display, Battery, Camera, Platform, Memory, Fe...</td>\n",
              "      <td>361</td>\n",
              "      <td>2166</td>\n",
              "    </tr>\n",
              "    <tr>\n",
              "      <th>5</th>\n",
              "      <td>Ideal for budget phone</td>\n",
              "      <td>ideal for budget phone</td>\n",
              "      <td>Price</td>\n",
              "      <td>22</td>\n",
              "      <td>22</td>\n",
              "    </tr>\n",
              "    <tr>\n",
              "      <th>7</th>\n",
              "      <td>i like everything. natural like camera quality...</td>\n",
              "      <td>natural like camera quality, decent battery li...</td>\n",
              "      <td>Battery, Camera</td>\n",
              "      <td>52</td>\n",
              "      <td>104</td>\n",
              "    </tr>\n",
              "    <tr>\n",
              "      <th>8</th>\n",
              "      <td>Camera poor</td>\n",
              "      <td>camera poor</td>\n",
              "      <td>Camera</td>\n",
              "      <td>11</td>\n",
              "      <td>11</td>\n",
              "    </tr>\n",
              "  </tbody>\n",
              "</table>\n",
              "</div>"
            ],
            "text/plain": [
              "                                         Review Text  ... Ranking\n",
              "1                Battery life could have been better  ...      35\n",
              "4  All in all, this is the best phone you can get...  ...    2166\n",
              "5                             Ideal for budget phone  ...      22\n",
              "7  i like everything. natural like camera quality...  ...     104\n",
              "8                                        Camera poor  ...      11\n",
              "\n",
              "[5 rows x 5 columns]"
            ]
          },
          "metadata": {
            "tags": []
          },
          "execution_count": 150
        }
      ]
    },
    {
      "cell_type": "code",
      "metadata": {
        "id": "XVHA15xzqMW3",
        "colab_type": "code",
        "colab": {}
      },
      "source": [
        "opinion_df.to_csv('opinion_table.csv')"
      ],
      "execution_count": 0,
      "outputs": []
    },
    {
      "cell_type": "code",
      "metadata": {
        "id": "EaDp1RRRqqUy",
        "colab_type": "code",
        "colab": {}
      },
      "source": [
        ""
      ],
      "execution_count": 0,
      "outputs": []
    },
    {
      "cell_type": "code",
      "metadata": {
        "id": "vJzlv0clmeyH",
        "colab_type": "code",
        "colab": {}
      },
      "source": [
        ""
      ],
      "execution_count": 0,
      "outputs": []
    },
    {
      "cell_type": "code",
      "metadata": {
        "id": "3VxFZM4clGJH",
        "colab_type": "code",
        "colab": {}
      },
      "source": [
        ""
      ],
      "execution_count": 0,
      "outputs": []
    },
    {
      "cell_type": "code",
      "metadata": {
        "id": "7WWn9IBylINE",
        "colab_type": "code",
        "colab": {}
      },
      "source": [
        ""
      ],
      "execution_count": 0,
      "outputs": []
    },
    {
      "cell_type": "code",
      "metadata": {
        "id": "41Nnvn8Xlk3-",
        "colab_type": "code",
        "colab": {}
      },
      "source": [
        ""
      ],
      "execution_count": 0,
      "outputs": []
    },
    {
      "cell_type": "code",
      "metadata": {
        "id": "jqZxfTVaN9ik",
        "colab_type": "code",
        "colab": {}
      },
      "source": [
        ""
      ],
      "execution_count": 0,
      "outputs": []
    },
    {
      "cell_type": "code",
      "metadata": {
        "id": "oDXmjhWxRTIB",
        "colab_type": "code",
        "colab": {}
      },
      "source": [
        ""
      ],
      "execution_count": 0,
      "outputs": []
    },
    {
      "cell_type": "code",
      "metadata": {
        "id": "BkosbWQWRTPf",
        "colab_type": "code",
        "colab": {}
      },
      "source": [
        ""
      ],
      "execution_count": 0,
      "outputs": []
    },
    {
      "cell_type": "code",
      "metadata": {
        "id": "EopbRfpwNQG7",
        "colab_type": "code",
        "colab": {}
      },
      "source": [
        ""
      ],
      "execution_count": 0,
      "outputs": []
    },
    {
      "cell_type": "code",
      "metadata": {
        "id": "5Cg0qvSxNn-h",
        "colab_type": "code",
        "colab": {}
      },
      "source": [
        ""
      ],
      "execution_count": 0,
      "outputs": []
    },
    {
      "cell_type": "code",
      "metadata": {
        "id": "bdfv0JhpOdsT",
        "colab_type": "code",
        "colab": {}
      },
      "source": [
        " "
      ],
      "execution_count": 0,
      "outputs": []
    }
  ]
}